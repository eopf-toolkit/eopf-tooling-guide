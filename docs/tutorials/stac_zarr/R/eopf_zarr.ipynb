{
  "cells": [
    {
      "cell_type": "markdown",
      "metadata": {},
      "source": [
        "---\n",
        "title: \"Access and Analyse EOPF STAC Zarr Data with R\"\n",
        "format:\n",
        "  md:\n",
        "    df-print: tibble\n",
        "execute:\n",
        "  cache: true\n",
        "editor_options: \n",
        "  chunk_output_type: console\n",
        "jupyter:\n",
        "    kernelspec:\n",
        "        name: \"ir43\"\n",
        "        language: \"R\"\n",
        "        display_name: \"R 4.3.2\"\n",
        "---\n",
        "\n",
        "# Table of Contents\n",
        "\n",
        "- [Introduction](#introduction)\n",
        "- [Prerequisites](#prerequisites)\n",
        "  - [Dependencies](#dependencies)\n",
        "  - [Fixes to the Rarr package](#fixes-to-the-rarr-package)\n",
        "- [Access Zarr data from the STAC catalog](#access-zarr-data-from-the-stac-catalog)\n",
        "- [Read Zarr data](#read-zarr-data)\n",
        "  - [Coordinates](#coordinates)\n",
        "  - [Different resolutions](#different-resolutions)\n",
        "- [Examples](#examples)\n",
        "  - [Sentinel-1](#sentinel-1)\n",
        "  - [Sentinel-2](#sentinel-2)\n",
        "  - [Sentinel-3](#sentinel-3)\n",
        "  \n",
        "# Introduction\n",
        "\n",
        "This tutorial will explore how to access and analyse Zarr data from the [EOPF Sample Service STAC catalog](https://stac.browser.user.eopf.eodc.eu/) programmatically using R.\n",
        "\n",
        "# Prerequisites\n",
        "\n",
        "An R environment is required to follow this tutorial, with R version >= 4.1.0. We recommend using either [RStudio](https://posit.co/download/rstudio-desktop/) or [Positron](https://posit.co/products/ide/positron/) (or a cloud computing environment) and making use of [RStudio projects](https://support.posit.co/hc/en-us/articles/200526207-Using-RStudio-Projects) for a self-contained coding environment.\n",
        "\n",
        "## Dependencies\n",
        "\n",
        "We will use the following packages in this tutorial: [`rstac`](https://brazil-data-cube.github.io/rstac/) (for accessing the STAC catalog), [`tidyverse`](https://tidyverse.tidyverse.org/) (for data manipulation), [`stars`](https://r-spatial.github.io/stars/)) (for working with spatiotemporal data) , and [`terra`](https://rspatial.github.io/terra/index.html) (for manipulating spatial data in raster format). You can install them directly from CRAN:"
      ]
    },
    {
      "cell_type": "code",
      "metadata": {},
      "source": [
        "#| eval: false\n",
        "install.packages(\"rstac\")\n",
        "install.packages(\"tidyverse\")\n",
        "install.packages(\"stars\")\n",
        "install.packages(\"terra\")"
      ],
      "execution_count": null,
      "outputs": []
    },
    {
      "cell_type": "markdown",
      "metadata": {},
      "source": [
        "We will also use the `Rarr` package to read Zarr data. It must be installed from Bioconductor, so first install the `BiocManager` package:"
      ]
    },
    {
      "cell_type": "code",
      "metadata": {},
      "source": [
        "#| eval: false\n",
        "install.packages(\"BiocManager\")"
      ],
      "execution_count": null,
      "outputs": []
    },
    {
      "cell_type": "markdown",
      "metadata": {},
      "source": [
        "Then, use this package to install `Rarr`:"
      ]
    },
    {
      "cell_type": "code",
      "metadata": {},
      "source": [
        "#| eval: false\n",
        "BiocManager::install(\"Rarr\")"
      ],
      "execution_count": null,
      "outputs": []
    },
    {
      "cell_type": "markdown",
      "metadata": {},
      "source": [
        "Finally, load the packages into your environment:"
      ]
    },
    {
      "cell_type": "code",
      "metadata": {
        "cache": false
      },
      "source": [
        "library(rstac)\n",
        "library(tidyverse)\n",
        "library(Rarr)\n",
        "library(stars)\n",
        "library(terra)"
      ],
      "execution_count": null,
      "outputs": []
    },
    {
      "cell_type": "markdown",
      "metadata": {},
      "source": [
        "## Fixes to the `Rarr` package\n",
        "\n",
        "We will use functions from the `Rarr` package to read and analyse Zarr data. Unfortunately, there is currently a bug in this package, causing it to parse the EOPF Sample Service data URLs incorrectly -- it has been fixed and will be updated in the next release of `Rarr`. In the meantime, we will write our own version of this URL parsing function and use it instead of the one in `Rarr`."
      ]
    },
    {
      "cell_type": "code",
      "metadata": {
        "cache": false
      },
      "source": [
        ".url_parse_other <- function(url) {\n",
        "  parsed_url <- httr::parse_url(url)\n",
        "  bucket <- gsub(\n",
        "    x = parsed_url$path, pattern = \"^/?([[a-z0-9\\\\:\\\\.-]*)/.*\",\n",
        "    replacement = \"\\\\1\", ignore.case = TRUE\n",
        "  )\n",
        "  object <- gsub(\n",
        "    x = parsed_url$path, pattern = \"^/?([a-z0-9\\\\:\\\\.-]*)/(.*)\",\n",
        "    replacement = \"\\\\2\", ignore.case = TRUE\n",
        "  )\n",
        "  hostname <- paste0(parsed_url$scheme, \"://\", parsed_url$hostname)\n",
        "\n",
        "  if (!is.null(parsed_url$port)) {\n",
        "    hostname <- paste0(hostname, \":\", parsed_url$port)\n",
        "  }\n",
        "\n",
        "  res <- list(\n",
        "    bucket = bucket,\n",
        "    object = object,\n",
        "    region = \"auto\",\n",
        "    hostname = hostname\n",
        "  )\n",
        "  return(res)\n",
        "}\n",
        "\n",
        "assignInNamespace(\".url_parse_other\", .url_parse_other, ns = \"Rarr\")"
      ],
      "execution_count": null,
      "outputs": []
    },
    {
      "cell_type": "markdown",
      "metadata": {},
      "source": [
        "This function overwrites the existing one in `Rarr`, and allows us to continue with the analysis.\n",
        "\n",
        "If you try to run some of the examples below and receive a timeout error, please ensure that you have run the above code block.\n",
        "\n",
        "# Access Zarr data from the STAC Catalog\n",
        "\n",
        "The first step of accessing Zarr data is to understand the assets within the EOPF Sample Service STAC catalog. The [first tutorial](/eopf_stac_access.qmd) goes into detail on this, so we recommend reviewing it if you have not already.\n",
        "\n",
        "For the first part of this tutorial, we will be using data from the [Sentinel-2 Level-2A Collection](https://stac.browser.user.eopf.eodc.eu/collections/sentinel-2-l2a). We fetch the \"product\" asset under a given item, and can look at its URL:"
      ]
    },
    {
      "cell_type": "code",
      "metadata": {},
      "source": [
        "s2_l2a_item <- stac(\"https://stac.core.eopf.eodc.eu/\") |>\n",
        "  collections(collection_id = \"sentinel-2-l2a\") |>\n",
        "  items(feature_id = \"S2B_MSIL2A_20250530T101559_N0511_R065_T32TPT_20250530T130924\") |>\n",
        "  get_request()\n",
        "\n",
        "s2_l2a_product <- s2_l2a_item |>\n",
        "  assets_select(asset_names = \"product\")\n",
        "\n",
        "s2_l2a_product_url <- s2_l2a_product |>\n",
        "  assets_url()\n",
        "\n",
        "s2_l2a_product_url"
      ],
      "execution_count": null,
      "outputs": []
    },
    {
      "cell_type": "markdown",
      "metadata": {},
      "source": [
        "The product is the \"top level\" Zarr asset, which contains the full Zarr product hierarchy. We can use `zarr_overview()` to get an overview of it, setting `as_data_frame` to `TRUE` so that we can see the entries in a data frame instead of printed directly to the console. Each entry is a Zarr array; we remove `product_url` from the path to get a better idea of what each array is. Since this is something we will want to do multiple times throughout the tutorial, we create a helper function for this."
      ]
    },
    {
      "cell_type": "code",
      "metadata": {},
      "source": [
        "derive_store_array <- function(store, product_url) {\n",
        "  store |>\n",
        "    mutate(array = str_remove(path, product_url)) |>\n",
        "    relocate(array, .before = path)\n",
        "}\n",
        "\n",
        "zarr_store <- s2_l2a_product_url |>\n",
        "  zarr_overview(as_data_frame = TRUE) |>\n",
        "  derive_store_array(s2_l2a_product_url)\n",
        "\n",
        "zarr_store"
      ],
      "execution_count": null,
      "outputs": []
    },
    {
      "cell_type": "markdown",
      "metadata": {},
      "source": [
        "This shows us the path to access the Zarr array, the number of chunks it contains, the type of data, as well as its dimensions and chunking structure.\n",
        "\n",
        "We can also look at overviews of individual arrays. First, let's narrow down to measurements taken at 20-metre resolution:"
      ]
    },
    {
      "cell_type": "code",
      "metadata": {},
      "source": [
        "r20m <- zarr_store |>\n",
        "  filter(str_starts(array, \"/measurements/reflectance/r20m/\"))\n",
        "\n",
        "r20m"
      ],
      "execution_count": null,
      "outputs": []
    },
    {
      "cell_type": "markdown",
      "metadata": {},
      "source": [
        "Then, we select the B02 array and examine its dimensions and chuning:"
      ]
    },
    {
      "cell_type": "code",
      "metadata": {},
      "source": [
        "r20m |>\n",
        "  filter(str_ends(array, \"b02\")) |>\n",
        "  select(path, nchunks, dim, chunk_dim) |>\n",
        "  as.list()"
      ],
      "execution_count": null,
      "outputs": []
    },
    {
      "cell_type": "markdown",
      "metadata": {},
      "source": [
        "We can also see an overview of individual arrays using `zarr_overview()`. With the default setting (where `as_data_frame` is `FALSE`), this prints information on the array directly to the console, in a more digestible way:"
      ]
    },
    {
      "cell_type": "code",
      "metadata": {},
      "source": [
        "r20m_b02 <- r20m |>\n",
        "  filter(str_ends(array, \"b02\")) |>\n",
        "  pull(path)\n",
        "\n",
        "r20m_b02 |>\n",
        "  zarr_overview()"
      ],
      "execution_count": null,
      "outputs": []
    },
    {
      "cell_type": "markdown",
      "metadata": {},
      "source": [
        "The above overview tells us that the data is two-dimensional, with dimensions 5490 x 5490. Zarr data is split up into **chunks**, which are smaller, independent piece of the larger array. Chunks can be accessed individually, without loading the entire array. In this case, there are 36 chunks in total, with 6 along each of the dimensions, each of size 915 x 915.\n",
        "\n",
        "# Read Zarr data\n",
        "\n",
        "To read in Zarr data, we use `read_zarr_array()`, and can pass a list to the `index` argument, describing which elements we want to extract along each dimension. Since this array is two-dimensional, we can think of the dimensions as rows and columns of the data. For example, to select the first 10 rows and the first 5 columns:"
      ]
    },
    {
      "cell_type": "code",
      "metadata": {},
      "source": [
        "r20m_b02 |>\n",
        "  read_zarr_array(index = list(1:10, 1:5))"
      ],
      "execution_count": null,
      "outputs": []
    },
    {
      "cell_type": "markdown",
      "metadata": {},
      "source": [
        "## Coordinates\n",
        "\n",
        "Similarly, we can read in the `x` and `y` coordinates corresponding to data at 10m resolution. These `x` and `y` coordinates do not correspond to latitude and longitude---to understand the coordinate reference system used in each data set, we access the `proj:code` property of the STAC item. In this case, the coordinate reference system is [EPSG:32626](https://epsg.io/32626), which represents metres from the UTM zone's origin."
      ]
    },
    {
      "cell_type": "code",
      "metadata": {},
      "source": [
        "s2_l2a_item[[\"properties\"]][[\"proj:code\"]]"
      ],
      "execution_count": null,
      "outputs": []
    },
    {
      "cell_type": "markdown",
      "metadata": {},
      "source": [
        "We can see that `x` and `y` are one dimensional:"
      ]
    },
    {
      "cell_type": "code",
      "metadata": {},
      "source": [
        "r20m_x <- r20m |>\n",
        "  filter(str_ends(array, \"x\")) |>\n",
        "  pull(path)\n",
        "\n",
        "r20m_x |>\n",
        "  zarr_overview()\n",
        "\n",
        "r20m_y <- r20m |>\n",
        "  filter(str_ends(array, \"y\")) |>\n",
        "  pull(path)\n",
        "\n",
        "r20m_y |>\n",
        "  zarr_overview()"
      ],
      "execution_count": null,
      "outputs": []
    },
    {
      "cell_type": "markdown",
      "metadata": {},
      "source": [
        "Which means that, when combined, they form a grid that describes the location of each point in the 2-dimensional measurements, such as B02. We will go into this more in the examples below.\n",
        "\n",
        "The `x` and `y` dimensions can be read in using the same logic: by describing which elements we want to extract. Since there is only one dimension, we only need to supply one entry in the indexing list:"
      ]
    },
    {
      "cell_type": "code",
      "metadata": {},
      "source": [
        "r20m_x |>\n",
        "  read_zarr_array(list(1:5))"
      ],
      "execution_count": null,
      "outputs": []
    },
    {
      "cell_type": "markdown",
      "metadata": {},
      "source": [
        "Or, we can read in the whole array (by not providing any elements to `index`) and view its first few values with `head()`. Of course, reading in the whole array, rather than a small section of it, will take longer."
      ]
    },
    {
      "cell_type": "code",
      "metadata": {},
      "source": [
        "r20m_x |>\n",
        "  read_zarr_array() |>\n",
        "  head(5)\n",
        "\n",
        "r20m_y |>\n",
        "  read_zarr_array() |>\n",
        "  head(5)"
      ],
      "execution_count": null,
      "outputs": []
    },
    {
      "cell_type": "markdown",
      "metadata": {},
      "source": [
        "## Different resolutions\n",
        "\n",
        "With EOPF data, some measurements are available at multiple resolutions. For example, we can see that the B02 spectral band is available at 10m, 20m, and 60m resolution:"
      ]
    },
    {
      "cell_type": "code",
      "metadata": {},
      "source": [
        "b02 <- zarr_store |>\n",
        "  filter(str_starts(array, \"/measurements/reflectance\"), str_ends(array, \"b02\"))\n",
        "\n",
        "b02 |>\n",
        "  select(array)"
      ],
      "execution_count": null,
      "outputs": []
    },
    {
      "cell_type": "markdown",
      "metadata": {},
      "source": [
        "The resolution affects the dimensions of the data: when measurements are taken at a higher resolution, there will be more data. We can see here that there is more data for the 10m resolution than the 20m resolution (recall, its dimensions are 5490 x 5490), and less for the 60m resolution:"
      ]
    },
    {
      "cell_type": "code",
      "metadata": {},
      "source": [
        "b02 |>\n",
        "  filter(array == \"/measurements/reflectance/r10m/b02\") |>\n",
        "  pull(dim)\n",
        "\n",
        "b02 |>\n",
        "  filter(array == \"/measurements/reflectance/r60m/b02\") |>\n",
        "  pull(dim)"
      ],
      "execution_count": null,
      "outputs": []
    },
    {
      "cell_type": "markdown",
      "metadata": {},
      "source": [
        "# Examples\n",
        "\n",
        "The following sections show examples from each of the Sentinel missions.\n",
        "\n",
        "## Sentinel-1\n",
        "\n",
        "The first example looks at [Sentinel-1 Level 2 Ocean (OCN) data](https://stac.browser.user.eopf.eodc.eu/collections/sentinel-1-l2-ocn), which consists of data for oceanographic study, such as monitoring sea surface conditions, detecting oil spills, and studying ocean currents. This example will show how to access and plot Wind Direction data.\n",
        "\n",
        "First, select the relevant collection and item from STAC:"
      ]
    },
    {
      "cell_type": "code",
      "metadata": {},
      "source": [
        "l2_ocn <- stac(\"https://stac.core.eopf.eodc.eu/\") |>\n",
        "  collections(collection_id = \"sentinel-1-l2-ocn\") |>\n",
        "  items(feature_id = \"S1A_IW_OCN__2SDV_20250604T193923_20250604T193948_059501_0762FA_C971\") |>\n",
        "  get_request()\n",
        "\n",
        "l2_ocn"
      ],
      "execution_count": null,
      "outputs": []
    },
    {
      "cell_type": "markdown",
      "metadata": {},
      "source": [
        "We can look at each of the assets' titles to understand what the item contains:"
      ]
    },
    {
      "cell_type": "code",
      "metadata": {},
      "source": [
        "l2_ocn |>\n",
        "  pluck(\"assets\") |>\n",
        "  map(\"title\")"
      ],
      "execution_count": null,
      "outputs": []
    },
    {
      "cell_type": "markdown",
      "metadata": {},
      "source": [
        "We are interested in the \"Ocean Wind field\" data, and will hold onto the `owi` key for now.\n",
        "\n",
        "To access all of the `owi` data, we get the \"product\" asset and then the full Zarr store, again using our helper function to extract array information from the full array path:"
      ]
    },
    {
      "cell_type": "code",
      "metadata": {},
      "source": [
        "l2_ocn_url <- l2_ocn |>\n",
        "  assets_select(asset_names = \"product\") |>\n",
        "  assets_url()\n",
        "\n",
        "l2_ocn_store <- l2_ocn_url |>\n",
        "  zarr_overview(as_data_frame = TRUE) |>\n",
        "  derive_store_array(l2_ocn_url)\n",
        "\n",
        "l2_ocn_store"
      ],
      "execution_count": null,
      "outputs": []
    },
    {
      "cell_type": "markdown",
      "metadata": {},
      "source": [
        "Next, we filter to access `owi` measurement data only:"
      ]
    },
    {
      "cell_type": "code",
      "metadata": {},
      "source": [
        "l2_ocn_store |>\n",
        "  filter(str_starts(array, \"/owi\"), str_detect(array, \"measurements\"))"
      ],
      "execution_count": null,
      "outputs": []
    },
    {
      "cell_type": "markdown",
      "metadata": {},
      "source": [
        "Since all of these arrays start with `/owi/S01SIWOCN_20250604T193923_0025_A340_C971_0762FA_VV/measurements/`, we can remove that to get a clearer idea of what each array is:"
      ]
    },
    {
      "cell_type": "code",
      "metadata": {},
      "source": [
        "owi <- l2_ocn_store |>\n",
        "  filter(str_starts(array, \"/owi\"), str_detect(array, \"measurements\")) |>\n",
        "  mutate(array = str_remove(array, \"/owi/S01SIWOCN_20250604T193923_0025_A340_C971_0762FA_VV/measurements/\"))\n",
        "\n",
        "owi"
      ],
      "execution_count": null,
      "outputs": []
    },
    {
      "cell_type": "markdown",
      "metadata": {},
      "source": [
        "We are interested in `wind_direction`, as well as the coordinate arrays (`latitude` and `longitude`). We can get an overview of the arrays' dimensions and structures:"
      ]
    },
    {
      "cell_type": "code",
      "metadata": {},
      "source": [
        "owi |>\n",
        "  filter(array == \"wind_direction\") |>\n",
        "  pull(path) |>\n",
        "  zarr_overview()\n",
        "\n",
        "owi |>\n",
        "  filter(array == \"latitude\") |>\n",
        "  pull(path) |>\n",
        "  zarr_overview()\n",
        "\n",
        "owi |>\n",
        "  filter(array == \"longitude\") |>\n",
        "  pull(path) |>\n",
        "  zarr_overview()"
      ],
      "execution_count": null,
      "outputs": []
    },
    {
      "cell_type": "markdown",
      "metadata": {},
      "source": [
        "Here, we can see that all of the arrays are of the same shape: 167 x 255, with only one chunk. Since these are small, we can read all of the data in at once."
      ]
    },
    {
      "cell_type": "code",
      "metadata": {},
      "source": [
        "owi_wind_direction <- owi |>\n",
        "  filter(array == \"wind_direction\") |>\n",
        "  pull(path) |>\n",
        "  read_zarr_array()\n",
        "\n",
        "owi_wind_direction[1:5, 1:5]\n",
        "\n",
        "owi_lat <- owi |>\n",
        "  filter(array == \"latitude\") |>\n",
        "  pull(path) |>\n",
        "  read_zarr_array()\n",
        "\n",
        "owi_lat[1:5, 1:5]\n",
        "\n",
        "owi_long <- owi |>\n",
        "  filter(array == \"longitude\") |>\n",
        "  pull(path) |>\n",
        "  read_zarr_array()\n",
        "\n",
        "owi_lat[1:5, 1:5]"
      ],
      "execution_count": null,
      "outputs": []
    },
    {
      "cell_type": "markdown",
      "metadata": {},
      "source": [
        "Note that both `longitude` and `latitude` are 2-dimensional arrays, and they are not evenly spaced. Rather, the data grid is **curvilinear** --- it has grid lines that are not straight, and there is a longitude and latitude for every pixel of the other layers (i.e., `wind_direction`). This format is very common in satellite data.\n",
        "\n",
        "We use functions from the `stars` package, loaded earlier, to format the data for visualisation. `stars` is specifically designed for reading, manipulating, and plotting spatiotemporal data, such as satellite data.\n",
        "\n",
        "The function `st_as_stars()` is used to get our data into the correct format for visualisation:"
      ]
    },
    {
      "cell_type": "code",
      "metadata": {},
      "source": [
        "owi_stars <- st_as_stars(wind_direction = owi_wind_direction) |>\n",
        "  st_as_stars(curvilinear = list(X1 = owi_long, X2 = owi_lat))"
      ],
      "execution_count": null,
      "outputs": []
    },
    {
      "cell_type": "markdown",
      "metadata": {},
      "source": [
        "Getting the data into this format is also beneficial because it allows for a quick summary of the data and its attributes, providing information such as the median and mean `wind_direction`, the number of `NA`s, and information on the grid:"
      ]
    },
    {
      "cell_type": "code",
      "metadata": {},
      "source": [
        "owi_stars"
      ],
      "execution_count": null,
      "outputs": []
    },
    {
      "cell_type": "markdown",
      "metadata": {},
      "source": [
        "Finally, we can plot this object:"
      ]
    },
    {
      "cell_type": "code",
      "metadata": {},
      "source": [
        "plot(owi_stars, main = \"Wind Direction\", as_points = FALSE, axes = TRUE, breaks = \"equal\", col = hcl.colors)"
      ],
      "execution_count": null,
      "outputs": []
    },
    {
      "cell_type": "markdown",
      "metadata": {},
      "source": [
        "## Sentinel-2\n",
        "\n",
        "EOPF Zarr Assets include quicklook RGB composites, which are readily viewable representations of the satellite image. We will open the 10-metre resolution quicklook and visualise it. This is available as an asset, so we can access it directly from the STAC item."
      ]
    },
    {
      "cell_type": "code",
      "metadata": {},
      "source": [
        "tci_10m_asset <- s2_l2a_item |>\n",
        "  assets_select(asset_names = \"TCI_10m\")\n",
        "\n",
        "tci_10m_url <- tci_10m_asset |>\n",
        "  assets_url()\n",
        "\n",
        "tci_10m_url |>\n",
        "  zarr_overview()"
      ],
      "execution_count": null,
      "outputs": []
    },
    {
      "cell_type": "markdown",
      "metadata": {},
      "source": [
        "From the overview, we can see that the quicklook array has three dimensions to it, each of size 10980 x 10980. The three dimensions correspond to red, green, and blue spectral bands (B04, B03, and B02, respectively), since this is an RGB composite. This information is also available by looking at the assets' bands:"
      ]
    },
    {
      "cell_type": "code",
      "metadata": {},
      "source": [
        "s2_l2a_item[[\"assets\"]][[\"TCI_10m\"]][[\"bands\"]] |>\n",
        "  map_dfr(as_tibble)"
      ],
      "execution_count": null,
      "outputs": []
    },
    {
      "cell_type": "markdown",
      "metadata": {},
      "source": [
        "We can read in a small chunk of the array to get an idea of its shape, using the same indexing process we've used before. Note that we want to select _all_ of the bands (the first dimension listed). Rather than writing `1:3`, we can simply use `NULL` as the first dimension, indicating to get all data at this dimension. To preview the data, we will just get the first 2 entries (in each dimension) along the three bands."
      ]
    },
    {
      "cell_type": "code",
      "metadata": {},
      "source": [
        "tci_10m_preview <- tci_10m_url |>\n",
        "  read_zarr_array(list(NULL, 1:2, 1:2))\n",
        "\n",
        "tci_10m_preview"
      ],
      "execution_count": null,
      "outputs": []
    },
    {
      "cell_type": "markdown",
      "metadata": {},
      "source": [
        "For visualisation purposes, we need the data in a different configuration --- note the dimensions of the data:"
      ]
    },
    {
      "cell_type": "code",
      "metadata": {},
      "source": [
        "dim(tci_10m_preview)"
      ],
      "execution_count": null,
      "outputs": []
    },
    {
      "cell_type": "markdown",
      "metadata": {},
      "source": [
        "Instead, we need to get it into e.g. 2 x 2 x 3, with the _third_ dimension reflecting the number of bands (or layers) To do this, we use the `aperm()` function to transpose an array, with argument `c(2, 3, 1)` -- moving the second dimension to the first, the third to the second, and the first to the third. Then, we can see that the dimensions of the array are correct:"
      ]
    },
    {
      "cell_type": "code",
      "metadata": {},
      "source": [
        "tci_10m_preview_perm <- tci_10m_preview |>\n",
        "  aperm(c(2, 3, 1))\n",
        "\n",
        "tci_10m_preview_perm\n",
        "\n",
        "dim(tci_10m_preview_perm)"
      ],
      "execution_count": null,
      "outputs": []
    },
    {
      "cell_type": "markdown",
      "metadata": {},
      "source": [
        "Let's read in the full TCI array to visualise it."
      ]
    },
    {
      "cell_type": "code",
      "metadata": {},
      "source": [
        "tci_10m <- tci_10m_url |>\n",
        "  read_zarr_array()\n",
        "\n",
        "tci_10m_perm <- tci_10m |>\n",
        "  aperm(c(2, 3, 1))\n",
        "\n",
        "dim(tci_10m)"
      ],
      "execution_count": null,
      "outputs": []
    },
    {
      "cell_type": "markdown",
      "metadata": {},
      "source": [
        "For visualisation, we use `terra`'s `plotRGB()` function, first converting the array into a raster object with `rast()`:"
      ]
    },
    {
      "cell_type": "code",
      "metadata": {},
      "source": [
        "tci_10m_perm |>\n",
        "  rast() |>\n",
        "  plotRGB()"
      ],
      "execution_count": null,
      "outputs": []
    },
    {
      "cell_type": "markdown",
      "metadata": {},
      "source": [
        "We can do the same with the quicklook at the 60-metre resolution, showing the full visualisation process in a single step:"
      ]
    },
    {
      "cell_type": "code",
      "metadata": {},
      "source": [
        "zarr_store |>\n",
        "  filter(array == \"/quality/l2a_quicklook/r60m/tci\") |>\n",
        "  pull(path) |>\n",
        "  read_zarr_array() |>\n",
        "  aperm(c(2, 3, 1)) |>\n",
        "  rast() |>\n",
        "  plotRGB()"
      ],
      "execution_count": null,
      "outputs": []
    },
    {
      "cell_type": "markdown",
      "metadata": {},
      "source": [
        "## Sentinel-3\n",
        "\n",
        "Finally, we look at an example from the Sentinel-3 mission. The Sentinel-3 mission measures sea-surface topography and land- and sea-surface temperature and colour, in support of environmental and climate monitoring. The [Sentinel-3 OLCI L2 LFR](https://stac.browser.user.eopf.eodc.eu/collections/sentinel-3-olci-l2-lfr?.language=en) product provides this data, computed for full resolution.\n",
        "\n",
        "Again, we will access a specific item from this collection:"
      ]
    },
    {
      "cell_type": "code",
      "metadata": {},
      "source": [
        "l2_lfr <- stac(\"https://stac.core.eopf.eodc.eu/\") |>\n",
        "  collections(collection_id = \"sentinel-3-olci-l2-lfr\") |>\n",
        "  items(feature_id = \"S3A_OL_2_LFR____20250605T102430_20250605T102730_20250605T122455_0179_126_336_2160_PS1_O_NR_003\") |>\n",
        "  get_request()\n",
        "\n",
        "l2_lfr"
      ],
      "execution_count": null,
      "outputs": []
    },
    {
      "cell_type": "markdown",
      "metadata": {},
      "source": [
        "To access all of the data, we get the \"product\" asset and then the full Zarr store, again using our helper function to extract array information from the full array path:"
      ]
    },
    {
      "cell_type": "code",
      "metadata": {},
      "source": [
        "l2_lfr_url <- l2_lfr |>\n",
        "  assets_select(asset_names = \"product\") |>\n",
        "  assets_url()\n",
        "\n",
        "l2_lfr_store <- l2_lfr_url |>\n",
        "  zarr_overview(as_data_frame = TRUE) |>\n",
        "  derive_store_array(l2_lfr_url)\n",
        "\n",
        "l2_lfr_store"
      ],
      "execution_count": null,
      "outputs": []
    },
    {
      "cell_type": "markdown",
      "metadata": {},
      "source": [
        "Next, we filter to access measurement data only:"
      ]
    },
    {
      "cell_type": "code",
      "metadata": {},
      "source": [
        "l2_lfr_measurements <- l2_lfr_store |>\n",
        "  filter(str_starts(array, \"/measurements\")) |>\n",
        "  mutate(array = str_remove(array, \"/measurements/\"))\n",
        "\n",
        "l2_lfr_measurements"
      ],
      "execution_count": null,
      "outputs": []
    },
    {
      "cell_type": "markdown",
      "metadata": {},
      "source": [
        "Of these, we are interested in `gifapar` as well as `longitude` and `latitude`. We can get an overview of the arrays’ dimensions and structures:"
      ]
    },
    {
      "cell_type": "code",
      "metadata": {},
      "source": [
        "l2_lfr_measurements |>\n",
        "  filter(array == \"gifapar\") |>\n",
        "  pull(path) |>\n",
        "  zarr_overview()\n",
        "\n",
        "l2_lfr_measurements |>\n",
        "  filter(array == \"longitude\") |>\n",
        "  pull(path) |>\n",
        "  zarr_overview()\n",
        "\n",
        "l2_lfr_measurements |>\n",
        "  filter(array == \"latitude\") |>\n",
        "  pull(path) |>\n",
        "  zarr_overview()"
      ],
      "execution_count": null,
      "outputs": []
    },
    {
      "cell_type": "markdown",
      "metadata": {},
      "source": [
        "Similar to the previous example, we can see that all of the arrays are of the same shape: 4091 x 4865. We read in all of the arrays:"
      ]
    },
    {
      "cell_type": "code",
      "metadata": {},
      "source": [
        "gifapar <- l2_lfr_measurements |>\n",
        "  filter(array == \"gifapar\") |>\n",
        "  pull(path) |>\n",
        "  read_zarr_array()\n",
        "\n",
        "gifapar_long <- l2_lfr_measurements |>\n",
        "  filter(array == \"longitude\") |>\n",
        "  pull(path) |>\n",
        "  read_zarr_array()\n",
        "\n",
        "gifapar_long[1:5, 1:5]\n",
        "\n",
        "gifapar_lat <- l2_lfr_measurements |>\n",
        "  filter(array == \"latitude\") |>\n",
        "  pull(path) |>\n",
        "  read_zarr_array()\n",
        "\n",
        "gifapar_lat[1:5, 1:5]"
      ],
      "execution_count": null,
      "outputs": []
    },
    {
      "cell_type": "markdown",
      "metadata": {},
      "source": [
        "Again, both `longitude` and `latitude` are unevenly spaced 2-dimensional arrays. This tells us that the data grid is curvilinear, and we use `st_as_stars()` to get our data into the correct format for visualisation:"
      ]
    },
    {
      "cell_type": "code",
      "metadata": {},
      "source": [
        "gifapar_stars <- st_as_stars(gifapar = gifapar) |>\n",
        "  st_as_stars(curvilinear = list(X1 = gifapar_long, X2 = gifapar_lat))\n",
        "\n",
        "gifapar_stars"
      ],
      "execution_count": null,
      "outputs": []
    },
    {
      "cell_type": "markdown",
      "metadata": {},
      "source": [
        "Finally, we plot the GIFAPAR:"
      ]
    },
    {
      "cell_type": "code",
      "metadata": {
        "message": false
      },
      "source": [
        "plot(gifapar_stars, as_points = FALSE, axes = TRUE, breaks = \"equal\", col = hcl.colors)"
      ],
      "execution_count": null,
      "outputs": []
    }
  ],
  "metadata": {
    "kernelspec": {
      "name": "ir43",
      "language": "R",
      "display_name": "R 4.3.2"
    }
  },
  "nbformat": 4,
  "nbformat_minor": 4
}